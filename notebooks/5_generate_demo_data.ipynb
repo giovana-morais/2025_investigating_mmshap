{
 "cells": [
  {
   "cell_type": "code",
   "execution_count": null,
   "id": "bb966b47-b3a1-4f8b-9c50-644b005b9259",
   "metadata": {},
   "outputs": [],
   "source": [
    "import glob\n",
    "import json\n",
    "import os\n",
    "\n",
    "import librosa\n",
    "import matplotlib.pyplot as plt\n",
    "import matplotlib as mpl\n",
    "import numpy as np\n",
    "import pandas as pd\n",
    "import soundfile as sf \n",
    "\n",
    "import data_processing as dp\n",
    "import plots\n",
    "\n",
    "# listen to audios\n",
    "import IPython.display as ipd"
   ]
  },
  {
   "cell_type": "code",
   "execution_count": null,
   "id": "1bd9ba32-ba43-4990-a6df-e33dafa12a02",
   "metadata": {},
   "outputs": [],
   "source": [
    "%load_ext autoreload\n",
    "%autoreload 2"
   ]
  },
  {
   "cell_type": "code",
   "execution_count": null,
   "id": "0316b13f-6f77-4ef1-9d61-9c7f94013573",
   "metadata": {},
   "outputs": [],
   "source": [
    "dataset_path = \"/media/gigibs/DD02EEEC68459F17/datasets\"\n",
    "# dataset_path = \"/scratch/gv2167/datasets/\"\n",
    "#dataset_path = \"/home/gigibs/Documents/datasets\""
   ]
  },
  {
   "cell_type": "code",
   "execution_count": null,
   "id": "ec103969-4135-49e3-bcf2-0ef4bddc7b29",
   "metadata": {},
   "outputs": [],
   "source": [
    "qfs = pd.read_json(\"../data/output_data/qwen_fs.json\")\n",
    "qzs = pd.read_json(\"../data/output_data/qwen_zs.json\")\n",
    "mfs = pd.read_json(\"../data/output_data/mu_fs.json\")\n",
    "mzs = pd.read_json(\"../data/output_data/mu_zs.json\")"
   ]
  },
  {
   "cell_type": "code",
   "execution_count": null,
   "id": "961b5f36-b8e4-4a58-a668-c46769d9d385",
   "metadata": {},
   "outputs": [],
   "source": [
    "qfs = dp.parse_df(qfs, experiment_name=\"qwen_fs\")\n",
    "qzs = dp.parse_df(qzs, experiment_name=\"qwen_zs\")\n",
    "mfs = dp.parse_df(mfs, experiment_name=\"mu_fs\")\n",
    "mzs = dp.parse_df(mzs, experiment_name=\"mu_zs\")"
   ]
  },
  {
   "cell_type": "markdown",
   "id": "4a23460b-7165-4196-9bb6-fad7ecb32773",
   "metadata": {},
   "source": [
    "demo data input format:\n",
    "\n",
    "```json\n",
    "{\n",
    "    \"title\": \"example\", // maybe we can skip this too\n",
    "    \"text_tokens\": [list, of, tokens],\n",
    "    \"text_shapley_values\": [list, of, values],\n",
    "    \"sample_rate\": 10,\n",
    "    \"total_duration\": 10,\n",
    "    \"num_audio_samples\": 16000,\n",
    "    \"audio_signal\": [list, of, samples],\n",
    "    \"audio_shapley_values\": [list, of, values],\n",
    "    \"gt_start\": 0.1 (or None),\n",
    "    \"gt_end\": 0.2 (or None),\n",
    "}\n",
    "```\n",
    "\n",
    "MAP JSON -> DF\n",
    "title -> question.id?\n",
    "question_tokens -> input_tokens\n",
    "text_shapley_tokens -> **(LOAD)** text shapley \n",
    "sample_rate -> **(INFER)** 16k or 24k depending on the model\n",
    "total_duration -> **(INFER)** from audio samples and sample rate\n",
    "audio_signal -> **(LOAD)** audio \n",
    "audio_shapley_values -> **(LOAD)** audio shapley \n",
    "gt_start, gt_end -> **(LOAD)** from sse if exists, or None\n",
    "\n",
    "CHANGES NEEDED IN THE JSON\n",
    "text_tokens -> question_tokens"
   ]
  },
  {
   "cell_type": "code",
   "execution_count": null,
   "id": "99a40e1f-875d-4986-aa01-083aad4f4c76",
   "metadata": {},
   "outputs": [],
   "source": [
    "exp_info = {\n",
    "    \"qwen_fs\": {\"model\": \"Qwen-Audio\", \"experiment\": \"MCPI\"},\n",
    "    \"qwen_zs\": {\"model\": \"Qwen-Audio\", \"experiment\": \"MCNPI\"},\n",
    "    \"mu_fs\": {\"model\": \"MU-LLaMA\", \"experiment\": \"MCPI\"},\n",
    "    \"mu_zs\": {\"model\": \"MU-LLaMA\", \"experiment\": \"MCNPI\"},\n",
    "}"
   ]
  },
  {
   "cell_type": "code",
   "execution_count": null,
   "id": "10287311-1817-419c-9c5a-ad607f73679c",
   "metadata": {},
   "outputs": [],
   "source": [
    "def load_shapley_values(row):\n",
    "    question_id = row.Index\n",
    "    data = f\"../{row.output_folder}/{question_id}_info.npz\"\n",
    "    tokens = row.input_ids\n",
    "    audio_tokens = np.where(tokens < 0)[-1]\n",
    "    question_tokens = np.where(tokens >=0)[-1]\n",
    "\n",
    "    all_shapley_values = data[\"shapley_values\"].squeeze(0).squeeze(0)\n",
    "    audio_shapley_values = all_shapley_values[audio_tokens]\n",
    "    question_shapley_values = all_shapley_values[question_tokens]"
   ]
  },
  {
   "cell_type": "code",
   "execution_count": null,
   "id": "18ee1886-8ecb-4343-ae5b-b7c9009bf26b",
   "metadata": {},
   "outputs": [],
   "source": [
    "def row_to_json(row, dataset_path):\n",
    "    if row.experiment.startswith(\"qwen\"):\n",
    "        sample_rate = 16000\n",
    "    else:\n",
    "        sample_rate = 24000\n",
    "\n",
    "    x, fs = librosa.load(os.path.join(dataset_path, row.audio_path), sr=sample_rate)\n",
    "    #all_shapley_values, audio_shapley_values, question_shapley_values = dp.load_shapley_values(sample)\n",
    "    output = {}\n",
    "    output[\"title\"] = row.id\n",
    "    all_shapley_values, audio_shapley_values, question_shapley_values = dp.load_shapley_values(row)\n",
    "    \n",
    "    output[\"all_shapley_values\"] = all_shapley_values.tolist()\n",
    "    output[\"audio_shapley_values\"] = audio_shapley_values.tolist()\n",
    "    output[\"question_shapley_values\"] = question_shapley_values.tolist()\n",
    "    output[\"question_tokens\"] = row.input_tokens.tolist()\n",
    "    output[\"answer_tokens\"] = row.output_tokens.tolist()\n",
    "    output[\"audio_signal\"] = x.tolist()\n",
    "    output[\"total_duration\"] = len(x)/sample_rate\n",
    "    \n",
    "    output[\"num_shapley_samples\"] = audio_shapley_values.shape[0]\n",
    "    output[\"sample_rate\"] = sample_rate\n",
    "    output[\"gt_start\"] = None\n",
    "    output[\"gt_end\"] = None\n",
    "\n",
    "    output[\"model\"] = exp_info[row.experiment][\"model\"]\n",
    "    output[\"experiment\"] = exp_info[row.experiment][\"experiment\"]\n",
    "\n",
    "    return output"
   ]
  },
  {
   "cell_type": "code",
   "execution_count": null,
   "id": "c55d32e4-50e6-463c-a754-701a773a6e2b",
   "metadata": {},
   "outputs": [],
   "source": [
    "test = qfs.loc[[427, 719]]"
   ]
  },
  {
   "cell_type": "code",
   "execution_count": null,
   "id": "4aedea91-4911-4fed-b3ec-fc6d48e23c86",
   "metadata": {},
   "outputs": [],
   "source": [
    "for i in test.itertuples():\n",
    "    print(i.Index)\n",
    "    a = row_to_json(i, dataset_path)\n",
    "\n",
    "    with open(f\"../../2025_investigating_mmshap_demo/data/{i.Index}.json\", \"w\") as f:\n",
    "        json.dump(a, f)"
   ]
  },
  {
   "cell_type": "code",
   "execution_count": null,
   "id": "b01f0cd5-6456-4195-a3ba-39c6fbc8893b",
   "metadata": {},
   "outputs": [],
   "source": [
    "with open(f\"../../2025_investigating_mmshap_demo/data/{i.Index}.json\", \"r\") as f:\n",
    "    tmp = json.load(f)"
   ]
  },
  {
   "cell_type": "code",
   "execution_count": null,
   "id": "4bc426cb-5e96-41a2-8133-62dcb92afccf",
   "metadata": {},
   "outputs": [],
   "source": [
    "np.array(tmp[\"audio_shapley_values\"]).shape"
   ]
  },
  {
   "cell_type": "code",
   "execution_count": null,
   "id": "284a2da9-bbab-4655-adba-2dc714e37d9a",
   "metadata": {},
   "outputs": [],
   "source": []
  }
 ],
 "metadata": {
  "kernelspec": {
   "display_name": "Python 3 (ipykernel)",
   "language": "python",
   "name": "python3"
  },
  "language_info": {
   "codemirror_mode": {
    "name": "ipython",
    "version": 3
   },
   "file_extension": ".py",
   "mimetype": "text/x-python",
   "name": "python",
   "nbconvert_exporter": "python",
   "pygments_lexer": "ipython3",
   "version": "3.10.12"
  }
 },
 "nbformat": 4,
 "nbformat_minor": 5
}
