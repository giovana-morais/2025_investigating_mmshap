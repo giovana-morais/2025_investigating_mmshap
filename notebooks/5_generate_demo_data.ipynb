{
 "cells": [
  {
   "cell_type": "code",
   "execution_count": null,
   "id": "bb966b47-b3a1-4f8b-9c50-644b005b9259",
   "metadata": {},
   "outputs": [],
   "source": [
    "import glob\n",
    "import json\n",
    "import os\n",
    "import random\n",
    "import shutil\n",
    "\n",
    "import librosa\n",
    "import matplotlib.pyplot as plt\n",
    "import matplotlib as mpl\n",
    "import numpy as np\n",
    "import pandas as pd\n",
    "import soundfile as sf \n",
    "\n",
    "import data_processing as dp\n",
    "import plots\n",
    "\n",
    "# listen to audios\n",
    "import IPython.display as ipd"
   ]
  },
  {
   "cell_type": "code",
   "execution_count": null,
   "id": "1bd9ba32-ba43-4990-a6df-e33dafa12a02",
   "metadata": {},
   "outputs": [],
   "source": [
    "%load_ext autoreload\n",
    "%autoreload 2"
   ]
  },
  {
   "cell_type": "markdown",
   "id": "ac00db97-c510-4a1e-997b-7da270ba34bf",
   "metadata": {},
   "source": [
    "Helper functions"
   ]
  },
  {
   "cell_type": "code",
   "execution_count": null,
   "id": "4d350baf-9e33-4e77-92ad-df410fff1c1a",
   "metadata": {},
   "outputs": [],
   "source": [
    "def load_shapley_values(row):\n",
    "    question_id = row.Index\n",
    "    data = f\"../{row.output_folder}/{question_id}_info.npz\"\n",
    "    tokens = row.input_ids\n",
    "    audio_tokens = np.where(tokens < 0)[-1]\n",
    "    question_tokens = np.where(tokens >=0)[-1]\n",
    "\n",
    "    all_shapley_values = data[\"shapley_values\"].squeeze(0).squeeze(0)\n",
    "    audio_shapley_values = all_shapley_values[audio_tokens]\n",
    "    question_shapley_values = all_shapley_values[question_tokens]\n",
    "\n",
    "def row_to_json(row, dataset_path, exp_info):\n",
    "    if row.experiment.startswith(\"qwen\"):\n",
    "        sample_rate = 16000\n",
    "    else:\n",
    "        sample_rate = 24000\n",
    "\n",
    "    x, fs = librosa.load(os.path.join(dataset_path, row.audio_path), sr=sample_rate)\n",
    "    #all_shapley_values, audio_shapley_values, question_shapley_values = dp.load_shapley_values(sample)\n",
    "    output = {}\n",
    "    output[\"title\"] = row.id\n",
    "    all_shapley_values, audio_shapley_values, question_shapley_values = dp.load_shapley_values(row)\n",
    "    \n",
    "    output[\"all_shapley_values\"] = all_shapley_values.tolist()\n",
    "    output[\"audio_shapley_values\"] = audio_shapley_values.tolist()\n",
    "    output[\"question_shapley_values\"] = question_shapley_values.tolist()\n",
    "    output[\"question_tokens\"] = row.input_tokens.tolist()\n",
    "    output[\"answer_tokens\"] = row.output_tokens.tolist()\n",
    "    output[\"audio_signal\"] = x.tolist()\n",
    "    output[\"total_duration\"] = len(x)/sample_rate\n",
    "    \n",
    "    output[\"num_shapley_samples\"] = audio_shapley_values.shape[0]\n",
    "    output[\"sample_rate\"] = sample_rate\n",
    "    output[\"gt_start\"] = None\n",
    "    output[\"gt_end\"] = None\n",
    "\n",
    "    output[\"model\"] = exp_info[row.experiment][\"model\"]\n",
    "    output[\"experiment\"] = exp_info[row.experiment][\"experiment\"]\n",
    "\n",
    "    return output"
   ]
  },
  {
   "cell_type": "markdown",
   "id": "498e155b-5da5-4e6f-91b2-6ebdadb06255",
   "metadata": {},
   "source": [
    "Load data"
   ]
  },
  {
   "cell_type": "code",
   "execution_count": null,
   "id": "0316b13f-6f77-4ef1-9d61-9c7f94013573",
   "metadata": {},
   "outputs": [],
   "source": [
    "dataset_path = \"/media/gigibs/DD02EEEC68459F17/datasets\"\n",
    "# dataset_path = \"/scratch/gv2167/datasets/\"\n",
    "#dataset_path = \"/home/gigibs/Documents/datasets\"\n",
    "\n",
    "demo_path = \"/home/gigibs/Documents/2025_investigating_mmshap_demo/data\""
   ]
  },
  {
   "cell_type": "code",
   "execution_count": null,
   "id": "ec103969-4135-49e3-bcf2-0ef4bddc7b29",
   "metadata": {},
   "outputs": [],
   "source": [
    "qfs = pd.read_json(\"../data/output_data/qwen_fs.json\")\n",
    "qzs = pd.read_json(\"../data/output_data/qwen_zs.json\")\n",
    "mfs = pd.read_json(\"../data/output_data/mu_fs.json\")\n",
    "mzs = pd.read_json(\"../data/output_data/mu_zs.json\")"
   ]
  },
  {
   "cell_type": "code",
   "execution_count": null,
   "id": "3e9a43ae-a837-4e19-bb1b-ee71c67b979b",
   "metadata": {},
   "outputs": [],
   "source": [
    "qtoy = pd.read_json(\"../data/output_data/qwen_toy.json\")"
   ]
  },
  {
   "cell_type": "code",
   "execution_count": null,
   "id": "62c7e96a-a4e8-42eb-ae68-7e01ad9ee703",
   "metadata": {},
   "outputs": [],
   "source": [
    "qtoy"
   ]
  },
  {
   "cell_type": "code",
   "execution_count": null,
   "id": "961b5f36-b8e4-4a58-a668-c46769d9d385",
   "metadata": {},
   "outputs": [],
   "source": [
    "qfs = dp.parse_df(qfs, experiment_name=\"qwen_fs\")\n",
    "qzs = dp.parse_df(qzs, experiment_name=\"qwen_zs\")\n",
    "mfs = dp.parse_df(mfs, experiment_name=\"mu_fs\")\n",
    "mzs = dp.parse_df(mzs, experiment_name=\"mu_zs\")"
   ]
  },
  {
   "cell_type": "markdown",
   "id": "c8d338c1-4a01-4bf6-843d-394f5842ddda",
   "metadata": {},
   "source": [
    "Setup experiment info and select questions to use as demo data"
   ]
  },
  {
   "cell_type": "code",
   "execution_count": null,
   "id": "99a40e1f-875d-4986-aa01-083aad4f4c76",
   "metadata": {},
   "outputs": [],
   "source": [
    "exp_info = {\n",
    "    \"qwen_fs\": {\"model\": \"Qwen-Audio\", \"experiment\": \"MC-PI\"},\n",
    "    \"qwen_zs\": {\"model\": \"Qwen-Audio\", \"experiment\": \"MC-NPI\"},\n",
    "    \"mu_fs\": {\"model\": \"MU-LLaMA\", \"experiment\": \"MC-PI\"},\n",
    "    \"mu_zs\": {\"model\": \"MU-LLaMA\", \"experiment\": \"MC-NPI\"},\n",
    "}"
   ]
  },
  {
   "cell_type": "code",
   "execution_count": null,
   "id": "2429a372-9f25-4c68-b0e3-21f8e2f1c0dd",
   "metadata": {},
   "outputs": [],
   "source": [
    "all_events = qfs.index.values\n",
    "# separate the sse_events that we want to display\n",
    "sse_events = [427, 719, 396, 869]\n",
    "\n",
    "# get 4 random other examples\n",
    "random.seed(42)\n",
    "random_events = random.choices(list(set(all_events) - set(sse_events)), k=4)"
   ]
  },
  {
   "cell_type": "code",
   "execution_count": null,
   "id": "b5740344-1f4d-45f4-867f-681c1d12e142",
   "metadata": {},
   "outputs": [],
   "source": [
    "demo_qids = sse_events + random_events"
   ]
  },
  {
   "cell_type": "markdown",
   "id": "1922cb4a-c3a4-45ab-bbdf-794b37905424",
   "metadata": {},
   "source": [
    "question_list.json should have the following structure:\n",
    "\n",
    "```json\n",
    "[\n",
    "  {\n",
    "    \"question_type\": \"sse\",\n",
    "    \"audio_path\": \"data/audio/719.wav\",\n",
    "    \"qid\": 719,\n",
    "    \"prompt\": \"What sound effect can be heard in this piece?\"\n",
    "  },\n",
    "...\n",
    "]\n",
    "```\n",
    "\n",
    "where `prompt` is the question without any options, just to hint the viewer on what they are going to see in the comparison page."
   ]
  },
  {
   "cell_type": "code",
   "execution_count": null,
   "id": "71effbdd-55d8-4f12-8948-e28f76da684c",
   "metadata": {},
   "outputs": [],
   "source": [
    "# build question_list.json\n",
    "question_list = []\n",
    "for i in sse_events:\n",
    "    question = {\n",
    "        \"question_type\": \"sse\",\n",
    "        \"audio_path\": f\"data/audio/{i}.wav\",\n",
    "        \"qid\": str(i),\n",
    "        \"prompt\": qfs.loc[i][\"prompt\"].split(\"Question: \")[-1].split(\"\\n\")[0]\n",
    "    }\n",
    "\n",
    "    question_list.append(question)\n",
    "\n",
    "    # copy audio to audio path\n",
    "    shutil.copy(os.path.join(dataset_path, qfs.loc[i][\"audio_path\"]), \n",
    "                os.path.join(demo_path, f\"{i}.wav\")\n",
    "               )\n",
    "\n",
    "for i in random_events:\n",
    "    question = {\n",
    "        \"question_type\": \"random\",\n",
    "        \"audio_path\": f\"data/audio/{i}.wav\",\n",
    "        \"qid\": str(i),\n",
    "        \"prompt\": qfs.loc[i][\"prompt\"].split(\"Question: \")[-1].split(\"\\n\")[0]\n",
    "    }\n",
    "\n",
    "    question_list.append(question)\n",
    "    shutil.copy(os.path.join(dataset_path, qfs.loc[i][\"audio_path\"]), \n",
    "                os.path.join(demo_path, f\"{i}.wav\")\n",
    "               )\n",
    "\n",
    "\n",
    "with open(os.path.join(demo_path, \"question_list.json\"), \"w\") as f:\n",
    "    json.dump(question_list, f)"
   ]
  },
  {
   "cell_type": "markdown",
   "id": "6ea6bc69-9891-47a5-a15f-1fb15717b738",
   "metadata": {},
   "source": [
    "Demo {qid}.json format\n",
    "\n",
    "```json\n",
    "{\n",
    "    \"title\": \"example\", // maybe we can skip this too\n",
    "    \"question_tokens\": [list, of, tokens],\n",
    "    \"question_shapley_values\": [list, of, values],\n",
    "    \"sample_rate\": 10,\n",
    "    \"total_duration\": 10,\n",
    "    \"num_audio_samples\": 16000,\n",
    "    \"audio_signal\": [list, of, samples],\n",
    "    \"audio_shapley_values\": [list, of, values],\n",
    "    \"gt_start\": 0.1 (or None),\n",
    "    \"gt_end\": 0.2 (or None),\n",
    "}\n",
    "```\n",
    "\n",
    "--- \n",
    "\n",
    "MAP JSON -> DF\n",
    "\n",
    "title -> question.id?\n",
    "\n",
    "question_tokens -> input_tokens\n",
    "\n",
    "text_shapley_tokens -> **(LOAD)** text shapley \n",
    "\n",
    "sample_rate -> **(INFER)** 16k or 24k depending on the model\n",
    "\n",
    "total_duration -> **(INFER)** from audio samples and sample rate\n",
    "\n",
    "audio_signal -> **(LOAD)** audio \n",
    "\n",
    "audio_shapley_values -> **(LOAD)** audio shapley \n",
    "\n",
    "gt_start, gt_end -> **(LOAD)** from sse if exists, or None"
   ]
  },
  {
   "cell_type": "code",
   "execution_count": null,
   "id": "67d8e4ce-5c85-488d-91c5-63520757827b",
   "metadata": {},
   "outputs": [],
   "source": [
    "demo_qids"
   ]
  },
  {
   "cell_type": "code",
   "execution_count": null,
   "id": "4aedea91-4911-4fed-b3ec-fc6d48e23c86",
   "metadata": {},
   "outputs": [],
   "source": [
    "for exp in [qfs, qzs, mfs, mzs]:\n",
    "    for i in exp.loc[demo_qids].itertuples():\n",
    "        output = row_to_json(i, dataset_path, exp_info)\n",
    "\n",
    "        # ugly ugly ugly BUT it works\n",
    "        if i.Index == 427:\n",
    "            output[\"gt_start\"] = 2.5\n",
    "            output[\"gt_end\"] = 4\n",
    "        elif i.Index == 719:\n",
    "            output[\"gt_start\"] = 5.5\n",
    "            output[\"gt_end\"] = 7\n",
    "        elif i.Index == 396:\n",
    "            output[\"gt_start\"] = 1\n",
    "            output[\"gt_end\"] = 3\n",
    "        elif i.Index == 869:\n",
    "            output[\"gt_start\"] = 0\n",
    "            output[\"gt_end\"] = 4\n",
    "            \n",
    "        print(os.path.join(demo_path, f\"{i.Index}_{i.experiment}.json\"))\n",
    "        with open(os.path.join(demo_path, f\"{i.Index}_{i.experiment}.json\"), \"w\") as f:\n",
    "            json.dump(output, f)"
   ]
  },
  {
   "cell_type": "code",
   "execution_count": null,
   "id": "b01f0cd5-6456-4195-a3ba-39c6fbc8893b",
   "metadata": {},
   "outputs": [],
   "source": [
    "with open(f\"/home/gigibs/Documents/2025_investigating_mmshap_demo/data/{i.Index}_{i.experiment}.json\", \"r\") as f:\n",
    "    tmp = json.load(f)"
   ]
  },
  {
   "cell_type": "code",
   "execution_count": null,
   "id": "4bc426cb-5e96-41a2-8133-62dcb92afccf",
   "metadata": {},
   "outputs": [],
   "source": [
    "np.array(tmp[\"audio_shapley_values\"]).shape"
   ]
  },
  {
   "cell_type": "code",
   "execution_count": null,
   "id": "284a2da9-bbab-4655-adba-2dc714e37d9a",
   "metadata": {},
   "outputs": [],
   "source": [
    "tmp"
   ]
  }
 ],
 "metadata": {
  "kernelspec": {
   "display_name": "Python 3 (ipykernel)",
   "language": "python",
   "name": "python3"
  },
  "language_info": {
   "codemirror_mode": {
    "name": "ipython",
    "version": 3
   },
   "file_extension": ".py",
   "mimetype": "text/x-python",
   "name": "python",
   "nbconvert_exporter": "python",
   "pygments_lexer": "ipython3",
   "version": "3.10.12"
  }
 },
 "nbformat": 4,
 "nbformat_minor": 5
}
