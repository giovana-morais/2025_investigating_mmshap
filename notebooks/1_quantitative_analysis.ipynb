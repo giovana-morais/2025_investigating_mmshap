{
 "cells": [
  {
   "cell_type": "code",
   "execution_count": 3,
   "id": "1c9155dd-db23-4882-83cb-7076e2d6a218",
   "metadata": {},
   "outputs": [],
   "source": [
    "import json\n",
    "\n",
    "import pandas as pd\n",
    "import utils"
   ]
  },
  {
   "cell_type": "code",
   "execution_count": 4,
   "id": "777249c5-50a4-4cc4-a64a-09345da2c4a9",
   "metadata": {},
   "outputs": [
    {
     "name": "stderr",
     "output_type": "stream",
     "text": [
      "/home/gigibs/Documents/research/2025_investigating_mmshap/src/experiments/mmshap.py:17: RuntimeWarning: invalid value encountered in scalar divide\n",
      "  text_score = text_contrib / (text_contrib + audio_contrib)\n",
      "/home/gigibs/Documents/research/2025_investigating_mmshap/src/experiments/mmshap.py:18: RuntimeWarning: invalid value encountered in scalar divide\n",
      "  audio_score = audio_contrib / (text_contrib + audio_contrib)\n",
      "/home/gigibs/Documents/research/2025_investigating_mmshap/src/experiments/mmshap.py:17: RuntimeWarning: invalid value encountered in scalar divide\n",
      "  text_score = text_contrib / (text_contrib + audio_contrib)\n",
      "/home/gigibs/Documents/research/2025_investigating_mmshap/src/experiments/mmshap.py:18: RuntimeWarning: invalid value encountered in scalar divide\n",
      "  audio_score = audio_contrib / (text_contrib + audio_contrib)\n"
     ]
    },
    {
     "name": "stdout",
     "output_type": "stream",
     "text": [
      "qfs accuracy = 0.4426229508196721\n",
      "qzs accuracy = 1.0\n",
      "mfs accuracy = 0.27014218009478674\n",
      "mzs accuracy = 0.3277661795407098\n"
     ]
    }
   ],
   "source": [
    "qfs = pd.read_json(\"../data/output_data/qwen_fs.json\")\n",
    "qzs = pd.read_json(\"../data/output_data/qwen_zs.json\")\n",
    "mfs = pd.read_json(\"../data/output_data/mullama_fs.json\")\n",
    "mzs = pd.read_json(\"../data/output_data/mullama_zs.json\")\n",
    "\n",
    "qfs = utils.parse_df(qfs)\n",
    "qzs = utils.parse_df(qzs)\n",
    "mfs = utils.parse_df(mfs)\n",
    "mzs = utils.parse_df(mzs)\n",
    "\n",
    "print(\"qfs accuracy =\", utils.accuracy(qfs))\n",
    "print(\"qzs accuracy =\", utils.accuracy(qzs))\n",
    "print(\"mfs accuracy =\", utils.accuracy(mfs))\n",
    "print(\"mzs accuracy =\", utils.accuracy(mzs))"
   ]
  },
  {
   "cell_type": "code",
   "execution_count": 5,
   "id": "ebde49f7-fd4f-4f7b-999f-389f4e10a7b1",
   "metadata": {},
   "outputs": [
    {
     "data": {
      "text/plain": [
       "(0.23237956445994998,\n",
       " 0.48406717642642827,\n",
       " 0.2112999051704491,\n",
       " 0.47159925129579056)"
      ]
     },
     "execution_count": 5,
     "metadata": {},
     "output_type": "execute_result"
    }
   ],
   "source": [
    "qfs[\"a_shap\"].mean(), mfs[\"a_shap\"].mean(), qzs[\"a_shap\"].mean(), mzs[\"a_shap\"].mean()"
   ]
  },
  {
   "cell_type": "code",
   "execution_count": 6,
   "id": "daa1141d-fd42-4164-8fe0-c7d0aa8494af",
   "metadata": {},
   "outputs": [
    {
     "data": {
      "text/plain": [
       "(False, False, True, True)"
      ]
     },
     "execution_count": 6,
     "metadata": {},
     "output_type": "execute_result"
    }
   ],
   "source": [
    "qfs.isnull().values.any(), qzs.isnull().values.any(), mfs.isnull().values.any(),  mzs.isnull().values.any()"
   ]
  },
  {
   "cell_type": "code",
   "execution_count": 7,
   "id": "246ef2df-b7e3-4ca8-85bb-9ebaaf9842df",
   "metadata": {},
   "outputs": [
    {
     "data": {
      "text/plain": [
       "(a_shap    0.313072\n",
       " dtype: float64,\n",
       " a_shap    0.225137\n",
       " dtype: float64,\n",
       " a_shap    0.550254\n",
       " dtype: float64,\n",
       " a_shap    0.568076\n",
       " dtype: float64)"
      ]
     },
     "execution_count": 7,
     "metadata": {},
     "output_type": "execute_result"
    }
   ],
   "source": [
    "qfs[[\"a_shap\"]].max(), qzs[[\"a_shap\"]].max(), mfs[[\"a_shap\"]].max(), mzs[[\"a_shap\"]].max(), "
   ]
  },
  {
   "cell_type": "code",
   "execution_count": null,
   "id": "78ad1170-7281-4d5b-b2fb-bba97c313dc7",
   "metadata": {},
   "outputs": [],
   "source": []
  }
 ],
 "metadata": {
  "kernelspec": {
   "display_name": "Python 3 (ipykernel)",
   "language": "python",
   "name": "python3"
  },
  "language_info": {
   "codemirror_mode": {
    "name": "ipython",
    "version": 3
   },
   "file_extension": ".py",
   "mimetype": "text/x-python",
   "name": "python",
   "nbconvert_exporter": "python",
   "pygments_lexer": "ipython3",
   "version": "3.10.12"
  }
 },
 "nbformat": 4,
 "nbformat_minor": 5
}
