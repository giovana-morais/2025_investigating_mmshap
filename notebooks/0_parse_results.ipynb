{
 "cells": [
  {
   "cell_type": "code",
   "execution_count": null,
   "id": "0468bcf5-c963-4046-ac45-9c507a91bb2f",
   "metadata": {},
   "outputs": [],
   "source": [
    "def combine_output(json_list):\n",
    "    \"\"\"\n",
    "    receive a list of output files. load then and combine them into a single one.\n",
    "    \"\"\"\n",
    "    data = []\n",
    "    for jf in json_list:\n",
    "        with open(jf, \"r\") as f:\n",
    "            data.append(json.load(f))\n",
    "    return data        "
   ]
  },
  {
   "cell_type": "code",
   "execution_count": null,
   "id": "a885df67-a907-41c7-a691-5cd1923a13cf",
   "metadata": {},
   "outputs": [],
   "source": [
    "mullama_fs_list = glob.glob(\"../data/output_data/mullama_muchomusic_musiccaps_fs/*.json\")\n",
    "mullama_zs_list = glob.glob(\"../data/output_data/mullama_muchomusic_musiccaps_zs/*.json\")\n",
    "qwen_fs_list = glob.glob(\"../data/output_data/qwenaudio_muchomusic_musiccaps_fs/*.json\")\n",
    "qwen_zs_list = glob.glob(\"../data/output_data/qwenaudio_muchomusic_musiccaps_zs/*.json\")"
   ]
  },
  {
   "cell_type": "code",
   "execution_count": null,
   "id": "cf2ec67c-5ef6-413b-bca6-6fb8820a2b92",
   "metadata": {},
   "outputs": [],
   "source": [
    "qwen_fs = combine_output(qwen_fs_list)\n",
    "qwen_zs = combine_output(qwen_zs_list)\n",
    "mu_fs = combine_output(mullama_fs_list)\n",
    "mu_zs = combine_output(mullama_zs_list)"
   ]
  }
 ],
 "metadata": {
  "kernelspec": {
   "display_name": "Python 3 (ipykernel)",
   "language": "python",
   "name": "python3"
  },
  "language_info": {
   "codemirror_mode": {
    "name": "ipython",
    "version": 3
   },
   "file_extension": ".py",
   "mimetype": "text/x-python",
   "name": "python",
   "nbconvert_exporter": "python",
   "pygments_lexer": "ipython3",
   "version": "3.10.12"
  }
 },
 "nbformat": 4,
 "nbformat_minor": 5
}
