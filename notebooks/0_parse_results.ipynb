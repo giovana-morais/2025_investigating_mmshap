{
 "cells": [
  {
   "cell_type": "code",
   "execution_count": 1,
   "id": "b2b9f49d-94c3-48f3-9f1e-b452a0b1098c",
   "metadata": {},
   "outputs": [],
   "source": [
    "import glob\n",
    "import os\n",
    "import json"
   ]
  },
  {
   "cell_type": "code",
   "execution_count": 2,
   "id": "0468bcf5-c963-4046-ac45-9c507a91bb2f",
   "metadata": {},
   "outputs": [],
   "source": [
    "def combine_output(json_list):\n",
    "    \"\"\"\n",
    "    receive a list of output .json files. load then and combine them into a single one.\n",
    "    \"\"\"\n",
    "    data = []\n",
    "    for jf in json_list:\n",
    "        with open(jf, \"r\") as f:\n",
    "            data.append(json.load(f))\n",
    "    return data        "
   ]
  },
  {
   "cell_type": "code",
   "execution_count": 3,
   "id": "a885df67-a907-41c7-a691-5cd1923a13cf",
   "metadata": {},
   "outputs": [],
   "source": [
    "mullama_fs_list = glob.glob(\"../data/output_data/mullama_muchomusic_musiccaps_fs/*.json\")\n",
    "mullama_zs_list = glob.glob(\"../data/output_data/mullama_muchomusic_musiccaps_zs/*.json\")\n",
    "qwen_fs_list = glob.glob(\"../data/output_data/qwenaudio_muchomusic_musiccaps_fs/*.json\")\n",
    "qwen_zs_list = glob.glob(\"../data/output_data/qwenaudio_muchomusic_musiccaps_zs/*.json\")"
   ]
  },
  {
   "cell_type": "code",
   "execution_count": 4,
   "id": "cf2ec67c-5ef6-413b-bca6-6fb8820a2b92",
   "metadata": {},
   "outputs": [],
   "source": [
    "qwen_fs = combine_output(qwen_fs_list)\n",
    "qwen_zs = combine_output(qwen_zs_list)\n",
    "mu_fs = combine_output(mullama_fs_list)\n",
    "mu_zs = combine_output(mullama_zs_list)"
   ]
  },
  {
   "cell_type": "code",
   "execution_count": 5,
   "id": "b2aa7456-d7d6-4fe2-a664-a3d5056f911b",
   "metadata": {},
   "outputs": [],
   "source": [
    "exps_info = {\n",
    "    \"mu_fs\": {\n",
    "        \"folder_name\": \"mullama_muchomusic_musiccaps_fs\",\n",
    "    },\n",
    "    \"mu_zs\": {\n",
    "        \"folder_name\": \"mullama_muchomusic_musiccaps_zs\",\n",
    "    },\n",
    "    \"qwen_fs\": {\n",
    "        \"folder_name\": \"qwenaudio_muchomusic_musiccaps_fs\",\n",
    "    },\n",
    "    \"qwen_zs\": {\n",
    "        \"folder_name\": \"qwenaudio_muchomusic_musiccaps_zs\",\n",
    "    },\n",
    "}"
   ]
  },
  {
   "cell_type": "code",
   "execution_count": 6,
   "id": "180e9325-1287-4a50-9f06-e7ec33e9bec0",
   "metadata": {},
   "outputs": [
    {
     "name": "stdout",
     "output_type": "stream",
     "text": [
      "mu_fs {'folder_name': 'mullama_muchomusic_musiccaps_fs'}\n",
      "mu_zs {'folder_name': 'mullama_muchomusic_musiccaps_zs'}\n",
      "qwen_fs {'folder_name': 'qwenaudio_muchomusic_musiccaps_fs'}\n",
      "qwen_zs {'folder_name': 'qwenaudio_muchomusic_musiccaps_zs'}\n"
     ]
    }
   ],
   "source": [
    "for kexp, vexp in exps_info.items():\n",
    "    print(kexp, vexp)\n",
    "    output_json = combine_output(glob.glob(f\"../data/output_data/{vexp['folder_name']}/*.json\"))\n",
    "\n",
    "    with open(f\"../data/output_data/{kexp}.json\", \"w\") as f:\n",
    "        json.dump(output_json, f)"
   ]
  },
  {
   "cell_type": "code",
   "execution_count": null,
   "id": "df6b0ef9-6e9d-4b2c-9aa5-d8eb59e2c05b",
   "metadata": {},
   "outputs": [],
   "source": []
  },
  {
   "cell_type": "code",
   "execution_count": null,
   "id": "14a51710-df4b-4988-9331-854c7d417162",
   "metadata": {},
   "outputs": [],
   "source": []
  }
 ],
 "metadata": {
  "kernelspec": {
   "display_name": "Python 3 (ipykernel)",
   "language": "python",
   "name": "python3"
  },
  "language_info": {
   "codemirror_mode": {
    "name": "ipython",
    "version": 3
   },
   "file_extension": ".py",
   "mimetype": "text/x-python",
   "name": "python",
   "nbconvert_exporter": "python",
   "pygments_lexer": "ipython3",
   "version": "3.10.12"
  }
 },
 "nbformat": 4,
 "nbformat_minor": 5
}
